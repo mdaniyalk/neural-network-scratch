{
 "cells": [
  {
   "cell_type": "code",
   "execution_count": 1,
   "metadata": {},
   "outputs": [],
   "source": [
    "import os\n",
    "import numpy as np\n",
    "import cv2\n",
    "import pandas as pd\n",
    "\n",
    "\n",
    "from module.model import Model\n",
    "from module.layers import *\n",
    "from module.activations import ReLU, Softmax\n",
    "from module.optimizers import Adam\n",
    "from module.losses import CategoricalCrossentropy\n",
    "\n",
    "from module.accuracy import Categorical_Accuracy\n",
    "from module.utils import one_hot_encoding\n",
    "from module.utils import train_test_split\n"
   ]
  },
  {
   "cell_type": "code",
   "execution_count": 2,
   "metadata": {},
   "outputs": [
    {
     "data": {
      "text/html": [
       "<div>\n",
       "<style scoped>\n",
       "    .dataframe tbody tr th:only-of-type {\n",
       "        vertical-align: middle;\n",
       "    }\n",
       "\n",
       "    .dataframe tbody tr th {\n",
       "        vertical-align: top;\n",
       "    }\n",
       "\n",
       "    .dataframe thead th {\n",
       "        text-align: right;\n",
       "    }\n",
       "</style>\n",
       "<table border=\"1\" class=\"dataframe\">\n",
       "  <thead>\n",
       "    <tr style=\"text-align: right;\">\n",
       "      <th></th>\n",
       "      <th>label</th>\n",
       "      <th>pixel0</th>\n",
       "      <th>pixel1</th>\n",
       "      <th>pixel2</th>\n",
       "      <th>pixel3</th>\n",
       "      <th>pixel4</th>\n",
       "      <th>pixel5</th>\n",
       "      <th>pixel6</th>\n",
       "      <th>pixel7</th>\n",
       "      <th>pixel8</th>\n",
       "      <th>...</th>\n",
       "      <th>pixel774</th>\n",
       "      <th>pixel775</th>\n",
       "      <th>pixel776</th>\n",
       "      <th>pixel777</th>\n",
       "      <th>pixel778</th>\n",
       "      <th>pixel779</th>\n",
       "      <th>pixel780</th>\n",
       "      <th>pixel781</th>\n",
       "      <th>pixel782</th>\n",
       "      <th>pixel783</th>\n",
       "    </tr>\n",
       "  </thead>\n",
       "  <tbody>\n",
       "    <tr>\n",
       "      <th>0</th>\n",
       "      <td>1</td>\n",
       "      <td>0</td>\n",
       "      <td>0</td>\n",
       "      <td>0</td>\n",
       "      <td>0</td>\n",
       "      <td>0</td>\n",
       "      <td>0</td>\n",
       "      <td>0</td>\n",
       "      <td>0</td>\n",
       "      <td>0</td>\n",
       "      <td>...</td>\n",
       "      <td>0</td>\n",
       "      <td>0</td>\n",
       "      <td>0</td>\n",
       "      <td>0</td>\n",
       "      <td>0</td>\n",
       "      <td>0</td>\n",
       "      <td>0</td>\n",
       "      <td>0</td>\n",
       "      <td>0</td>\n",
       "      <td>0</td>\n",
       "    </tr>\n",
       "    <tr>\n",
       "      <th>1</th>\n",
       "      <td>0</td>\n",
       "      <td>0</td>\n",
       "      <td>0</td>\n",
       "      <td>0</td>\n",
       "      <td>0</td>\n",
       "      <td>0</td>\n",
       "      <td>0</td>\n",
       "      <td>0</td>\n",
       "      <td>0</td>\n",
       "      <td>0</td>\n",
       "      <td>...</td>\n",
       "      <td>0</td>\n",
       "      <td>0</td>\n",
       "      <td>0</td>\n",
       "      <td>0</td>\n",
       "      <td>0</td>\n",
       "      <td>0</td>\n",
       "      <td>0</td>\n",
       "      <td>0</td>\n",
       "      <td>0</td>\n",
       "      <td>0</td>\n",
       "    </tr>\n",
       "    <tr>\n",
       "      <th>2</th>\n",
       "      <td>1</td>\n",
       "      <td>0</td>\n",
       "      <td>0</td>\n",
       "      <td>0</td>\n",
       "      <td>0</td>\n",
       "      <td>0</td>\n",
       "      <td>0</td>\n",
       "      <td>0</td>\n",
       "      <td>0</td>\n",
       "      <td>0</td>\n",
       "      <td>...</td>\n",
       "      <td>0</td>\n",
       "      <td>0</td>\n",
       "      <td>0</td>\n",
       "      <td>0</td>\n",
       "      <td>0</td>\n",
       "      <td>0</td>\n",
       "      <td>0</td>\n",
       "      <td>0</td>\n",
       "      <td>0</td>\n",
       "      <td>0</td>\n",
       "    </tr>\n",
       "    <tr>\n",
       "      <th>3</th>\n",
       "      <td>4</td>\n",
       "      <td>0</td>\n",
       "      <td>0</td>\n",
       "      <td>0</td>\n",
       "      <td>0</td>\n",
       "      <td>0</td>\n",
       "      <td>0</td>\n",
       "      <td>0</td>\n",
       "      <td>0</td>\n",
       "      <td>0</td>\n",
       "      <td>...</td>\n",
       "      <td>0</td>\n",
       "      <td>0</td>\n",
       "      <td>0</td>\n",
       "      <td>0</td>\n",
       "      <td>0</td>\n",
       "      <td>0</td>\n",
       "      <td>0</td>\n",
       "      <td>0</td>\n",
       "      <td>0</td>\n",
       "      <td>0</td>\n",
       "    </tr>\n",
       "    <tr>\n",
       "      <th>4</th>\n",
       "      <td>0</td>\n",
       "      <td>0</td>\n",
       "      <td>0</td>\n",
       "      <td>0</td>\n",
       "      <td>0</td>\n",
       "      <td>0</td>\n",
       "      <td>0</td>\n",
       "      <td>0</td>\n",
       "      <td>0</td>\n",
       "      <td>0</td>\n",
       "      <td>...</td>\n",
       "      <td>0</td>\n",
       "      <td>0</td>\n",
       "      <td>0</td>\n",
       "      <td>0</td>\n",
       "      <td>0</td>\n",
       "      <td>0</td>\n",
       "      <td>0</td>\n",
       "      <td>0</td>\n",
       "      <td>0</td>\n",
       "      <td>0</td>\n",
       "    </tr>\n",
       "  </tbody>\n",
       "</table>\n",
       "<p>5 rows × 785 columns</p>\n",
       "</div>"
      ],
      "text/plain": [
       "   label  pixel0  pixel1  pixel2  pixel3  pixel4  pixel5  pixel6  pixel7  \\\n",
       "0      1       0       0       0       0       0       0       0       0   \n",
       "1      0       0       0       0       0       0       0       0       0   \n",
       "2      1       0       0       0       0       0       0       0       0   \n",
       "3      4       0       0       0       0       0       0       0       0   \n",
       "4      0       0       0       0       0       0       0       0       0   \n",
       "\n",
       "   pixel8  ...  pixel774  pixel775  pixel776  pixel777  pixel778  pixel779  \\\n",
       "0       0  ...         0         0         0         0         0         0   \n",
       "1       0  ...         0         0         0         0         0         0   \n",
       "2       0  ...         0         0         0         0         0         0   \n",
       "3       0  ...         0         0         0         0         0         0   \n",
       "4       0  ...         0         0         0         0         0         0   \n",
       "\n",
       "   pixel780  pixel781  pixel782  pixel783  \n",
       "0         0         0         0         0  \n",
       "1         0         0         0         0  \n",
       "2         0         0         0         0  \n",
       "3         0         0         0         0  \n",
       "4         0         0         0         0  \n",
       "\n",
       "[5 rows x 785 columns]"
      ]
     },
     "execution_count": 2,
     "metadata": {},
     "output_type": "execute_result"
    }
   ],
   "source": [
    "data = pd.read_csv('data/digit-recognizer/train.csv') \n",
    "data.head()"
   ]
  },
  {
   "cell_type": "code",
   "execution_count": 3,
   "metadata": {},
   "outputs": [],
   "source": [
    "y = data['label'].to_numpy()\n",
    "X = data.drop(['label'], axis=1).to_numpy()\n",
    "X_train, y_train, X_test, y_test = train_test_split(X, y, test_size = 1000, random_state = 42, shuffle = True)"
   ]
  },
  {
   "cell_type": "code",
   "execution_count": 4,
   "metadata": {},
   "outputs": [],
   "source": [
    "category = [0, 1, 2, 3, 4, 5, 6, 7, 8, 9]\n",
    "label_map = {cat: i for i, cat in enumerate(category)}"
   ]
  },
  {
   "cell_type": "code",
   "execution_count": 5,
   "metadata": {},
   "outputs": [],
   "source": [
    "y_train = one_hot_encoding(y_train, category)\n",
    "y_test = one_hot_encoding(y_test, category)"
   ]
  },
  {
   "cell_type": "code",
   "execution_count": 6,
   "metadata": {},
   "outputs": [
    {
     "data": {
      "text/plain": [
       "(41000, 784, 1)"
      ]
     },
     "execution_count": 6,
     "metadata": {},
     "output_type": "execute_result"
    }
   ],
   "source": [
    "np.expand_dims(X_train, axis=-1).shape"
   ]
  },
  {
   "cell_type": "code",
   "execution_count": 7,
   "metadata": {},
   "outputs": [
    {
     "data": {
      "text/plain": [
       "391"
      ]
     },
     "execution_count": 7,
     "metadata": {},
     "output_type": "execute_result"
    }
   ],
   "source": [
    "(782 - 2) // 2 + 1"
   ]
  },
  {
   "cell_type": "code",
   "execution_count": 9,
   "metadata": {},
   "outputs": [
    {
     "name": "stderr",
     "output_type": "stream",
     "text": [
      "Training Epoch: 1/10:   1%|          | 1/161 [00:15<41:13, 15.46s/it]"
     ]
    },
    {
     "name": "stdout",
     "output_type": "stream",
     "text": [
      "step: 0, acc: 0.117, loss: 2.303 (data_loss: 2.303, reg_loss: 0.000), lr: 0.001\n"
     ]
    },
    {
     "name": "stderr",
     "output_type": "stream",
     "text": [
      "Training Epoch: 1/10:   2%|▏         | 4/161 [01:01<39:53, 15.25s/it]"
     ]
    }
   ],
   "source": [
    "# Instantiate the model\n",
    "model = Model()\n",
    "\n",
    "\n",
    "# Add layers\n",
    "# model.add(Dense(X_train.shape[1], 128))\n",
    "model.add(LSTM(input_shape=(X_train.shape[1], 1), num_hidden_layers=128))\n",
    "model.add(ReLU())\n",
    "# model.add(MaxPool1D(pool_size=2, strides=2))\n",
    "# model.add(Flatten())\n",
    "model.add(Dense(128, 10))\n",
    "model.add(Softmax())\n",
    "\n",
    "# Set loss, optimizer and accuracy objects\n",
    "model.set(\n",
    "    loss=CategoricalCrossentropy(),\n",
    "    optimizer=Adam(learning_rate=1e-3, decay=1e-3),\n",
    "    accuracy=Categorical_Accuracy()\n",
    ")\n",
    "\n",
    "# Finalize the model\n",
    "model.finalize()\n",
    "\n",
    "# Train the model\n",
    "model.train(np.expand_dims(X_train, axis=-1), y_train, validation_data=(X_test, y_test),\n",
    "            epochs=10, batch_size=256, print_every=100)"
   ]
  },
  {
   "cell_type": "code",
   "execution_count": null,
   "metadata": {},
   "outputs": [
    {
     "name": "stderr",
     "output_type": "stream",
     "text": [
      "Training Epoch: 1/10:   1%|          | 1/161 [00:01<03:55,  1.47s/it]"
     ]
    },
    {
     "name": "stdout",
     "output_type": "stream",
     "text": [
      "step: 0, acc: 0.055, loss: 4.411 (data_loss: 4.411, reg_loss: 0.000), lr: 0.001\n"
     ]
    },
    {
     "name": "stderr",
     "output_type": "stream",
     "text": [
      "Training Epoch: 1/10:  63%|██████▎   | 101/161 [02:23<01:19,  1.33s/it]"
     ]
    },
    {
     "name": "stdout",
     "output_type": "stream",
     "text": [
      "step: 100, acc: 0.922, loss: 0.230 (data_loss: 0.230, reg_loss: 0.000), lr: 0.0009090909090909091\n"
     ]
    },
    {
     "name": "stderr",
     "output_type": "stream",
     "text": [
      "Training Epoch: 1/10: 100%|██████████| 161/161 [03:40<00:00,  1.37s/it]"
     ]
    },
    {
     "name": "stdout",
     "output_type": "stream",
     "text": [
      "step: 160, acc: 0.950, loss: 0.152 (data_loss: 0.152, reg_loss: 0.000), lr: 0.0008620689655172415\n",
      "training, acc: 0.874, loss: 0.522 (data_loss: 0.522, reg_loss: 0.000), lr: 0.0008620689655172415\n"
     ]
    },
    {
     "name": "stderr",
     "output_type": "stream",
     "text": [
      "\n"
     ]
    },
    {
     "name": "stdout",
     "output_type": "stream",
     "text": [
      "validation, acc: 0.942, loss: 0.216\n"
     ]
    },
    {
     "name": "stderr",
     "output_type": "stream",
     "text": [
      "Training Epoch: 2/10:   1%|          | 1/161 [00:01<03:48,  1.43s/it]"
     ]
    },
    {
     "name": "stdout",
     "output_type": "stream",
     "text": [
      "step: 0, acc: 0.941, loss: 0.262 (data_loss: 0.262, reg_loss: 0.000), lr: 0.0008613264427217915\n"
     ]
    },
    {
     "name": "stderr",
     "output_type": "stream",
     "text": [
      "Training Epoch: 2/10:  63%|██████▎   | 101/161 [02:31<01:30,  1.52s/it]"
     ]
    },
    {
     "name": "stdout",
     "output_type": "stream",
     "text": [
      "step: 100, acc: 0.957, loss: 0.167 (data_loss: 0.167, reg_loss: 0.000), lr: 0.0007930214115781126\n"
     ]
    },
    {
     "name": "stderr",
     "output_type": "stream",
     "text": [
      "Training Epoch: 2/10: 100%|██████████| 161/161 [04:14<00:00,  1.58s/it]"
     ]
    },
    {
     "name": "stdout",
     "output_type": "stream",
     "text": [
      "step: 160, acc: 1.000, loss: 0.045 (data_loss: 0.045, reg_loss: 0.000), lr: 0.000757002271006813\n",
      "training, acc: 0.940, loss: 0.199 (data_loss: 0.199, reg_loss: 0.000), lr: 0.000757002271006813\n"
     ]
    },
    {
     "name": "stderr",
     "output_type": "stream",
     "text": [
      "\n"
     ]
    },
    {
     "name": "stdout",
     "output_type": "stream",
     "text": [
      "validation, acc: 0.952, loss: 0.197\n"
     ]
    },
    {
     "name": "stderr",
     "output_type": "stream",
     "text": [
      "Training Epoch: 3/10:   1%|          | 1/161 [00:02<06:48,  2.55s/it]"
     ]
    },
    {
     "name": "stdout",
     "output_type": "stream",
     "text": [
      "step: 0, acc: 0.938, loss: 0.236 (data_loss: 0.236, reg_loss: 0.000), lr: 0.0007564296520423601\n"
     ]
    },
    {
     "name": "stderr",
     "output_type": "stream",
     "text": [
      "Training Epoch: 3/10:  63%|██████▎   | 101/161 [03:31<02:05,  2.09s/it]"
     ]
    },
    {
     "name": "stdout",
     "output_type": "stream",
     "text": [
      "step: 100, acc: 0.953, loss: 0.145 (data_loss: 0.145, reg_loss: 0.000), lr: 0.0007032348804500703\n"
     ]
    },
    {
     "name": "stderr",
     "output_type": "stream",
     "text": [
      "Training Epoch: 3/10: 100%|██████████| 161/161 [05:25<00:00,  2.02s/it]"
     ]
    },
    {
     "name": "stdout",
     "output_type": "stream",
     "text": [
      "step: 160, acc: 1.000, loss: 0.035 (data_loss: 0.035, reg_loss: 0.000), lr: 0.0006747638326585696\n",
      "training, acc: 0.946, loss: 0.176 (data_loss: 0.176, reg_loss: 0.000), lr: 0.0006747638326585696\n"
     ]
    },
    {
     "name": "stderr",
     "output_type": "stream",
     "text": [
      "\n"
     ]
    },
    {
     "name": "stdout",
     "output_type": "stream",
     "text": [
      "validation, acc: 0.952, loss: 0.198\n"
     ]
    },
    {
     "name": "stderr",
     "output_type": "stream",
     "text": [
      "Training Epoch: 4/10:   1%|          | 1/161 [00:02<06:03,  2.27s/it]"
     ]
    },
    {
     "name": "stdout",
     "output_type": "stream",
     "text": [
      "step: 0, acc: 0.941, loss: 0.229 (data_loss: 0.229, reg_loss: 0.000), lr: 0.0006743088334457181\n"
     ]
    },
    {
     "name": "stderr",
     "output_type": "stream",
     "text": [
      "Training Epoch: 4/10:  63%|██████▎   | 101/161 [03:17<01:51,  1.85s/it]"
     ]
    },
    {
     "name": "stdout",
     "output_type": "stream",
     "text": [
      "step: 100, acc: 0.961, loss: 0.136 (data_loss: 0.136, reg_loss: 0.000), lr: 0.0006317119393556539\n"
     ]
    },
    {
     "name": "stderr",
     "output_type": "stream",
     "text": [
      "Training Epoch: 4/10: 100%|██████████| 161/161 [05:10<00:00,  1.93s/it]"
     ]
    },
    {
     "name": "stdout",
     "output_type": "stream",
     "text": [
      "step: 160, acc: 1.000, loss: 0.027 (data_loss: 0.027, reg_loss: 0.000), lr: 0.0006086427267194157\n",
      "training, acc: 0.951, loss: 0.165 (data_loss: 0.165, reg_loss: 0.000), lr: 0.0006086427267194157\n"
     ]
    },
    {
     "name": "stderr",
     "output_type": "stream",
     "text": [
      "\n"
     ]
    },
    {
     "name": "stdout",
     "output_type": "stream",
     "text": [
      "validation, acc: 0.951, loss: 0.207\n"
     ]
    },
    {
     "name": "stderr",
     "output_type": "stream",
     "text": [
      "Training Epoch: 5/10:   1%|          | 1/161 [00:01<05:07,  1.92s/it]"
     ]
    },
    {
     "name": "stdout",
     "output_type": "stream",
     "text": [
      "step: 0, acc: 0.945, loss: 0.229 (data_loss: 0.229, reg_loss: 0.000), lr: 0.000608272506082725\n"
     ]
    },
    {
     "name": "stderr",
     "output_type": "stream",
     "text": [
      "Training Epoch: 5/10:  63%|██████▎   | 101/161 [03:10<02:05,  2.09s/it]"
     ]
    },
    {
     "name": "stdout",
     "output_type": "stream",
     "text": [
      "step: 100, acc: 0.961, loss: 0.129 (data_loss: 0.129, reg_loss: 0.000), lr: 0.0005733944954128441\n"
     ]
    },
    {
     "name": "stderr",
     "output_type": "stream",
     "text": [
      "Training Epoch: 5/10: 100%|██████████| 161/161 [05:16<00:00,  1.96s/it]"
     ]
    },
    {
     "name": "stdout",
     "output_type": "stream",
     "text": [
      "step: 160, acc: 1.000, loss: 0.029 (data_loss: 0.029, reg_loss: 0.000), lr: 0.0005543237250554324\n",
      "training, acc: 0.951, loss: 0.166 (data_loss: 0.166, reg_loss: 0.000), lr: 0.0005543237250554324\n"
     ]
    },
    {
     "name": "stderr",
     "output_type": "stream",
     "text": [
      "\n"
     ]
    },
    {
     "name": "stdout",
     "output_type": "stream",
     "text": [
      "validation, acc: 0.955, loss: 0.216\n"
     ]
    },
    {
     "name": "stderr",
     "output_type": "stream",
     "text": [
      "Training Epoch: 6/10:   1%|          | 1/161 [00:01<04:40,  1.75s/it]"
     ]
    },
    {
     "name": "stdout",
     "output_type": "stream",
     "text": [
      "step: 0, acc: 0.938, loss: 0.257 (data_loss: 0.257, reg_loss: 0.000), lr: 0.0005540166204986149\n"
     ]
    },
    {
     "name": "stderr",
     "output_type": "stream",
     "text": [
      "Training Epoch: 6/10:  63%|██████▎   | 101/161 [03:11<01:56,  1.95s/it]"
     ]
    },
    {
     "name": "stdout",
     "output_type": "stream",
     "text": [
      "step: 100, acc: 0.957, loss: 0.141 (data_loss: 0.141, reg_loss: 0.000), lr: 0.0005249343832020997\n"
     ]
    },
    {
     "name": "stderr",
     "output_type": "stream",
     "text": [
      "Training Epoch: 6/10:  86%|████████▋ | 139/161 [05:08<01:10,  3.20s/it]"
     ]
    }
   ],
   "source": [
    "# Instantiate the model\n",
    "model = Model()\n",
    "\n",
    "\n",
    "# Add layers\n",
    "# model.add(Dense(X_train.shape[1], 128))\n",
    "model.add(Conv1D(n_filters=128, filter_size=3, n_inputs=X_train.shape[1]))\n",
    "model.add(ReLU())\n",
    "model.add(MaxPool1D(pool_size=2, strides=2))\n",
    "model.add(Flatten())\n",
    "model.add(Dense((391)*128, 10))\n",
    "model.add(Softmax())\n",
    "\n",
    "# Set loss, optimizer and accuracy objects\n",
    "model.set(\n",
    "    loss=CategoricalCrossentropy(),\n",
    "    optimizer=Adam(learning_rate=1e-3, decay=1e-3),\n",
    "    accuracy=Categorical_Accuracy()\n",
    ")\n",
    "\n",
    "# Finalize the model\n",
    "model.finalize()\n",
    "\n",
    "# Train the model\n",
    "model.train(np.expand_dims(X_train, axis=-1), y_train, validation_data=(X_test, y_test),\n",
    "            epochs=10, batch_size=256, print_every=100)"
   ]
  },
  {
   "cell_type": "code",
   "execution_count": null,
   "metadata": {},
   "outputs": [
    {
     "data": {
      "text/plain": [
       "(41000, 782, 32)"
      ]
     },
     "execution_count": 9,
     "metadata": {},
     "output_type": "execute_result"
    }
   ],
   "source": [
    "conv = Conv1D(n_filters=32, filter_size=3, n_inputs=X_train.shape[1])\n",
    "conv.forward(np.expand_dims(X_train, axis=-1), training=True)\n",
    "conv.output.shape"
   ]
  },
  {
   "cell_type": "code",
   "execution_count": null,
   "metadata": {},
   "outputs": [],
   "source": [
    "# Predict on the image\n",
    "confidences = model.predict(X_test)\n",
    "\n",
    "# Get prediction instead of confidence levels\n",
    "predictions = model.output_layer_activation.predictions(confidences)\n",
    "\n",
    "# Get label name from label index\n",
    "prediction = label_map[predictions[2]]\n",
    "\n",
    "print(f'predicted: {prediction}')\n",
    "print(f'true_value: {np.argmax(y_test[2])}')"
   ]
  },
  {
   "cell_type": "code",
   "execution_count": null,
   "metadata": {},
   "outputs": [
    {
     "data": {
      "text/plain": [
       "array([8, 1, 9, 9, 8, 6, 2, 2, 7, 1, 6, 3, 1, 2, 7, 4, 3, 3, 6, 4, 9, 5,\n",
       "       2, 6, 0, 0, 0, 8, 6, 3, 6, 6, 1, 5, 8, 6, 7, 3, 6, 1, 9, 7, 9, 6,\n",
       "       8, 3, 4, 2, 7, 8, 4, 3, 3, 7, 1, 2, 6, 2, 9, 6, 4, 0, 4, 8, 5, 5,\n",
       "       4, 3, 9, 3, 9, 4, 2, 8, 1, 6, 3, 9, 0, 3, 1, 7, 6, 7, 6, 1, 9, 5,\n",
       "       3, 6, 9, 3, 7, 6, 6, 5, 2, 9, 3, 5, 4, 6, 0, 4, 1, 1, 1, 6, 8, 9,\n",
       "       1, 1, 4, 7, 1, 0, 3, 6, 9, 8, 1, 3, 7, 3, 9, 6, 5, 7, 1, 0, 6, 5,\n",
       "       6, 4, 2, 0, 9, 9, 9, 7, 2, 3, 6, 4, 0, 9, 9, 1, 7, 7, 1, 6, 8, 1,\n",
       "       7, 6, 6, 5, 7, 9, 9, 0, 7, 9, 9, 1, 3, 6, 5, 8, 7, 1, 6, 7, 0, 9,\n",
       "       3, 0, 8, 6, 0, 1, 9, 9, 2, 3, 7, 2, 6, 6, 4, 8, 9, 6, 0, 7, 4, 5,\n",
       "       5, 6, 3, 1, 5, 3, 7, 9, 9, 0, 7, 4, 7, 5, 1, 1, 0, 2, 5, 3, 8, 1,\n",
       "       3, 9, 3, 6, 7, 3, 1, 3, 4, 4, 0, 2, 7, 1, 4, 2, 1, 0, 5, 3, 9, 8,\n",
       "       7, 6, 5, 1, 0, 5, 7, 9, 7, 1, 7, 7, 4, 2, 2, 3, 4, 5, 2, 6, 4, 1,\n",
       "       8, 8, 5, 5, 5, 4, 8, 6, 6, 6, 1, 0, 6, 3, 1, 9, 9, 0, 8, 3, 9, 7,\n",
       "       7, 2, 3, 1, 8, 2, 6, 1, 5, 1, 0, 0, 5, 3, 5, 6, 9, 6, 7, 1, 1, 3,\n",
       "       7, 3, 2, 5, 1, 8, 3, 1, 0, 1, 2, 9, 7, 2, 7, 8, 2, 7, 0, 3, 9, 4,\n",
       "       0, 1, 6, 9, 2, 0, 2, 3, 3, 0, 3, 3, 0, 1, 0, 0, 6, 8, 2, 4, 7, 1,\n",
       "       8, 7, 0, 5, 6, 1, 5, 7, 3, 9, 9, 3, 3, 3, 8, 9, 2, 1, 0, 7, 7, 4,\n",
       "       0, 2, 0, 7, 0, 8, 7, 0, 0, 4, 8, 8, 7, 2, 1, 7, 0, 7, 6, 1, 4, 7,\n",
       "       6, 2, 1, 2, 4, 6, 1, 1, 6, 6, 0, 2, 2, 9, 3, 1, 2, 4, 1, 2, 3, 9,\n",
       "       7, 4, 1, 6, 0, 9, 0, 3, 2, 3, 0, 7, 9, 8, 6, 8, 4, 1, 4, 5, 8, 4,\n",
       "       0, 9, 6, 6, 3, 5, 3, 7, 4, 5, 5, 3, 1, 8, 7, 7, 4, 8, 4, 8, 5, 3,\n",
       "       6, 0, 6, 8, 8, 8, 4, 0, 0, 7, 8, 9, 6, 7, 3, 1, 5, 8, 1, 3, 0, 1,\n",
       "       3, 1, 1, 6, 6, 2, 1, 7, 2, 8, 2, 6, 0, 2, 0, 2, 6, 1, 2, 2, 7, 6,\n",
       "       7, 0, 6, 8, 2, 4, 7, 6, 3, 0, 3, 0, 3, 3, 5, 5, 2, 4, 7, 7, 3, 8,\n",
       "       3, 5, 1, 5, 2, 9, 7, 2, 6, 3, 0, 4, 8, 2, 1, 9, 0, 1, 4, 1, 8, 9,\n",
       "       2, 7, 9, 0, 2, 4, 1, 2, 9, 8, 1, 3, 7, 3, 8, 2, 2, 1, 6, 6, 4, 4,\n",
       "       0, 9, 1, 2, 5, 9, 2, 3, 3, 0, 3, 2, 8, 4, 3, 2, 3, 6, 1, 0, 0, 5,\n",
       "       8, 1, 1, 0, 4, 5, 8, 3, 6, 7, 2, 7, 0, 6, 2, 2, 9, 0, 4, 4, 1, 9,\n",
       "       9, 7, 5, 1, 2, 6, 3, 4, 2, 0, 1, 5, 3, 1, 6, 5, 6, 5, 4, 1, 1, 2,\n",
       "       4, 1, 9, 2, 5, 3, 9, 1, 4, 7, 1, 0, 1, 4, 3, 3, 9, 6, 6, 7, 5, 4,\n",
       "       6, 1, 8, 3, 5, 2, 3, 3, 2, 6, 3, 7, 6, 5, 6, 2, 1, 6, 4, 2, 6, 7,\n",
       "       3, 9, 0, 2, 7, 6, 0, 4, 3, 9, 6, 6, 0, 2, 5, 6, 5, 7, 2, 4, 8, 5,\n",
       "       1, 7, 8, 3, 7, 1, 4, 6, 5, 8, 9, 3, 8, 1, 0, 4, 1, 7, 7, 9, 1, 6,\n",
       "       6, 3, 2, 9, 2, 9, 9, 9, 2, 4, 3, 2, 9, 5, 1, 0, 7, 8, 9, 0, 6, 6,\n",
       "       8, 6, 7, 5, 7, 2, 9, 7, 1, 7, 1, 2, 3, 7, 7, 3, 6, 8, 0, 0, 6, 8,\n",
       "       5, 0, 9, 4, 5, 7, 2, 0, 9, 8, 0, 7, 2, 3, 3, 6, 6, 7, 9, 7, 3, 4,\n",
       "       2, 8, 0, 1, 3, 3, 9, 0, 6, 9, 5, 8, 2, 6, 5, 7, 3, 4, 6, 5, 8, 1,\n",
       "       7, 8, 3, 6, 3, 8, 1, 7, 3, 7, 4, 1, 1, 7, 3, 7, 5, 0, 1, 0, 9, 3,\n",
       "       7, 6, 2, 4, 9, 4, 5, 9, 2, 6, 9, 3, 0, 8, 6, 8, 9, 7, 4, 8, 3, 4,\n",
       "       4, 0, 2, 8, 3, 6, 3, 4, 1, 0, 4, 2, 7, 6, 8, 2, 8, 4, 5, 1, 1, 1,\n",
       "       5, 6, 9, 3, 1, 3, 2, 9, 8, 8, 2, 9, 0, 3, 0, 8, 5, 4, 2, 0, 3, 3,\n",
       "       4, 7, 9, 2, 1, 1, 4, 2, 8, 5, 0, 3, 9, 3, 3, 2, 7, 8, 2, 7, 4, 7,\n",
       "       3, 0, 1, 4, 6, 7, 9, 6, 6, 3, 1, 9, 6, 6, 3, 7, 0, 9, 2, 7, 5, 3,\n",
       "       2, 1, 1, 4, 1, 5, 0, 6, 3, 1, 0, 7, 0, 3, 1, 2, 0, 2, 7, 3, 9, 0,\n",
       "       1, 8, 0, 1, 3, 3, 8, 4, 9, 4, 3, 3, 0, 2, 3, 0, 6, 4, 3, 5, 5, 4,\n",
       "       3, 3, 6, 1, 8, 3, 7, 1, 2, 6])"
      ]
     },
     "execution_count": 11,
     "metadata": {},
     "output_type": "execute_result"
    }
   ],
   "source": [
    "np.argmax(confidences, axis=1)"
   ]
  }
 ],
 "metadata": {
  "kernelspec": {
   "display_name": "base",
   "language": "python",
   "name": "python3"
  },
  "language_info": {
   "codemirror_mode": {
    "name": "ipython",
    "version": 3
   },
   "file_extension": ".py",
   "mimetype": "text/x-python",
   "name": "python",
   "nbconvert_exporter": "python",
   "pygments_lexer": "ipython3",
   "version": "3.10.9"
  },
  "orig_nbformat": 4
 },
 "nbformat": 4,
 "nbformat_minor": 2
}

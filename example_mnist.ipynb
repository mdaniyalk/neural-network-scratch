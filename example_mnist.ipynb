{
 "cells": [
  {
   "cell_type": "code",
   "execution_count": 2,
   "metadata": {},
   "outputs": [],
   "source": [
    "import os\n",
    "import numpy as np\n",
    "import cv2\n",
    "import pandas as pd\n",
    "\n",
    "\n",
    "from module.model import Model\n",
    "from module.layers import Dense\n",
    "from module.activations import ReLU, Softmax\n",
    "from module.optimizers import Adam\n",
    "from module.losses import CategoricalCrossentropy\n",
    "from module.accuracy import Categorical_Accuracy\n"
   ]
  },
  {
   "cell_type": "code",
   "execution_count": 9,
   "metadata": {},
   "outputs": [],
   "source": [
    "def one_hot(categories, data):\n",
    "    cat_to_label = {cat: i for i, cat in enumerate(categories)}\n",
    "    labels = np.array([cat_to_label[cat] for cat in data])\n",
    "    return np.eye(len(categories))[labels]"
   ]
  },
  {
   "cell_type": "code",
   "execution_count": 28,
   "metadata": {},
   "outputs": [],
   "source": [
    "data = pd.read_csv('data/digit-recognizer/train.csv') \n",
    "\n",
    "data = np.array(data)\n",
    "m, n = data.shape\n",
    "np.random.shuffle(data)\n",
    "data_test = data[0:1000].T\n",
    "y_test = data_test[0]\n",
    "X_test = data_test[1:n]\n",
    "X_test = X_test.T / 255.\n",
    "data_train = data[1000:m].T\n",
    "y_train = data_train[0]\n",
    "X_train = data_train[1:n]\n",
    "X_train = X_train.T / 255.\n",
    "keys = np.array(range(X_train.shape[0]))\n",
    "np.random.shuffle(keys)\n",
    "X_train = X_train[keys]\n",
    "y_train = y_train[keys]\n",
    "category = [0, 1, 2, 3, 4, 5, 6, 7, 8, 9]\n",
    "y_train = one_hot(category, y_train)\n",
    "y_test = one_hot(category, y_test)"
   ]
  },
  {
   "cell_type": "code",
   "execution_count": 32,
   "metadata": {},
   "outputs": [],
   "source": [
    "label_map = {cat: i for i, cat in enumerate(category)}"
   ]
  },
  {
   "cell_type": "code",
   "execution_count": 30,
   "metadata": {},
   "outputs": [
    {
     "name": "stdout",
     "output_type": "stream",
     "text": [
      "epoch: 1\n",
      "step: 0, acc: 0.141, loss: 2.303 (data_loss: 2.303, reg_loss: 0.000), lr: 0.001\n",
      "step: 100, acc: 0.758, loss: 0.624 (data_loss: 0.624, reg_loss: 0.000), lr: 0.0009090909090909091\n",
      "step: 200, acc: 0.828, loss: 0.491 (data_loss: 0.491, reg_loss: 0.000), lr: 0.0008333333333333334\n",
      "step: 300, acc: 0.914, loss: 0.245 (data_loss: 0.245, reg_loss: 0.000), lr: 0.0007692307692307692\n",
      "step: 320, acc: 0.900, loss: 0.230 (data_loss: 0.230, reg_loss: 0.000), lr: 0.0007575757575757576\n",
      "training, acc: 0.812, loss: 0.640 (data_loss: 0.640, reg_loss: 0.000), lr: 0.0007575757575757576\n",
      "validation, acc: 0.901, loss: 0.309\n",
      "epoch: 2\n",
      "step: 0, acc: 0.922, loss: 0.274 (data_loss: 0.274, reg_loss: 0.000), lr: 0.000757002271006813\n",
      "step: 100, acc: 0.906, loss: 0.290 (data_loss: 0.290, reg_loss: 0.000), lr: 0.0007037297677691766\n",
      "step: 200, acc: 0.852, loss: 0.436 (data_loss: 0.436, reg_loss: 0.000), lr: 0.0006574621959237344\n",
      "step: 300, acc: 0.930, loss: 0.174 (data_loss: 0.174, reg_loss: 0.000), lr: 0.0006169031462060457\n",
      "step: 320, acc: 0.975, loss: 0.131 (data_loss: 0.131, reg_loss: 0.000), lr: 0.0006093845216331506\n",
      "training, acc: 0.913, loss: 0.294 (data_loss: 0.294, reg_loss: 0.000), lr: 0.0006093845216331506\n",
      "validation, acc: 0.912, loss: 0.244\n",
      "epoch: 3\n",
      "step: 0, acc: 0.938, loss: 0.191 (data_loss: 0.191, reg_loss: 0.000), lr: 0.0006090133982947626\n",
      "step: 100, acc: 0.938, loss: 0.222 (data_loss: 0.222, reg_loss: 0.000), lr: 0.000574052812858783\n",
      "step: 200, acc: 0.883, loss: 0.389 (data_loss: 0.389, reg_loss: 0.000), lr: 0.0005428881650380022\n",
      "step: 300, acc: 0.961, loss: 0.124 (data_loss: 0.124, reg_loss: 0.000), lr: 0.0005149330587023686\n",
      "step: 320, acc: 1.000, loss: 0.075 (data_loss: 0.075, reg_loss: 0.000), lr: 0.000509683995922528\n",
      "training, acc: 0.933, loss: 0.231 (data_loss: 0.231, reg_loss: 0.000), lr: 0.000509683995922528\n",
      "validation, acc: 0.918, loss: 0.201\n",
      "epoch: 4\n",
      "step: 0, acc: 0.953, loss: 0.143 (data_loss: 0.143, reg_loss: 0.000), lr: 0.0005094243504839531\n",
      "step: 100, acc: 0.961, loss: 0.178 (data_loss: 0.178, reg_loss: 0.000), lr: 0.00048473097430925844\n",
      "step: 200, acc: 0.914, loss: 0.339 (data_loss: 0.339, reg_loss: 0.000), lr: 0.00046232085067036515\n",
      "step: 300, acc: 0.961, loss: 0.096 (data_loss: 0.096, reg_loss: 0.000), lr: 0.00044189129474149366\n",
      "step: 320, acc: 1.000, loss: 0.047 (data_loss: 0.047, reg_loss: 0.000), lr: 0.0004380201489268507\n",
      "training, acc: 0.946, loss: 0.187 (data_loss: 0.187, reg_loss: 0.000), lr: 0.0004380201489268507\n",
      "validation, acc: 0.940, loss: 0.170\n",
      "epoch: 5\n",
      "step: 0, acc: 0.969, loss: 0.113 (data_loss: 0.113, reg_loss: 0.000), lr: 0.00043782837127845885\n",
      "step: 100, acc: 0.961, loss: 0.149 (data_loss: 0.149, reg_loss: 0.000), lr: 0.0004194630872483221\n",
      "step: 200, acc: 0.922, loss: 0.298 (data_loss: 0.298, reg_loss: 0.000), lr: 0.00040257648953301127\n",
      "step: 300, acc: 0.969, loss: 0.077 (data_loss: 0.077, reg_loss: 0.000), lr: 0.00038699690402476777\n",
      "step: 320, acc: 1.000, loss: 0.034 (data_loss: 0.034, reg_loss: 0.000), lr: 0.00038402457757296467\n",
      "training, acc: 0.954, loss: 0.158 (data_loss: 0.158, reg_loss: 0.000), lr: 0.00038402457757296467\n",
      "validation, acc: 0.949, loss: 0.149\n",
      "epoch: 6\n",
      "step: 0, acc: 0.969, loss: 0.093 (data_loss: 0.093, reg_loss: 0.000), lr: 0.00038387715930902113\n",
      "step: 100, acc: 0.961, loss: 0.135 (data_loss: 0.135, reg_loss: 0.000), lr: 0.00036968576709796677\n",
      "step: 200, acc: 0.938, loss: 0.264 (data_loss: 0.264, reg_loss: 0.000), lr: 0.0003565062388591801\n",
      "step: 300, acc: 0.984, loss: 0.063 (data_loss: 0.063, reg_loss: 0.000), lr: 0.0003442340791738382\n",
      "step: 320, acc: 1.000, loss: 0.027 (data_loss: 0.027, reg_loss: 0.000), lr: 0.0003418803418803419\n",
      "training, acc: 0.960, loss: 0.137 (data_loss: 0.137, reg_loss: 0.000), lr: 0.0003418803418803419\n",
      "validation, acc: 0.947, loss: 0.135\n",
      "epoch: 7\n",
      "step: 0, acc: 0.977, loss: 0.078 (data_loss: 0.078, reg_loss: 0.000), lr: 0.00034176349965823647\n",
      "step: 100, acc: 0.969, loss: 0.126 (data_loss: 0.126, reg_loss: 0.000), lr: 0.00033046926635822867\n",
      "step: 200, acc: 0.945, loss: 0.236 (data_loss: 0.236, reg_loss: 0.000), lr: 0.0003198976327575176\n",
      "step: 300, acc: 0.984, loss: 0.053 (data_loss: 0.053, reg_loss: 0.000), lr: 0.00030998140111593303\n",
      "step: 320, acc: 1.000, loss: 0.022 (data_loss: 0.022, reg_loss: 0.000), lr: 0.0003080714725816389\n",
      "training, acc: 0.965, loss: 0.122 (data_loss: 0.122, reg_loss: 0.000), lr: 0.0003080714725816389\n",
      "validation, acc: 0.956, loss: 0.125\n",
      "epoch: 8\n",
      "step: 0, acc: 0.984, loss: 0.068 (data_loss: 0.068, reg_loss: 0.000), lr: 0.0003079765937788728\n",
      "step: 100, acc: 0.961, loss: 0.120 (data_loss: 0.120, reg_loss: 0.000), lr: 0.0002987750224081267\n",
      "step: 200, acc: 0.953, loss: 0.209 (data_loss: 0.209, reg_loss: 0.000), lr: 0.0002901073397156948\n",
      "step: 300, acc: 0.984, loss: 0.046 (data_loss: 0.046, reg_loss: 0.000), lr: 0.00028192839018889197\n",
      "step: 320, acc: 1.000, loss: 0.019 (data_loss: 0.019, reg_loss: 0.000), lr: 0.0002803476310625175\n",
      "training, acc: 0.968, loss: 0.110 (data_loss: 0.110, reg_loss: 0.000), lr: 0.0002803476310625175\n",
      "validation, acc: 0.958, loss: 0.118\n",
      "epoch: 9\n",
      "step: 0, acc: 0.984, loss: 0.061 (data_loss: 0.061, reg_loss: 0.000), lr: 0.0002802690582959641\n",
      "step: 100, acc: 0.969, loss: 0.115 (data_loss: 0.115, reg_loss: 0.000), lr: 0.0002726281352235551\n",
      "step: 200, acc: 0.953, loss: 0.189 (data_loss: 0.189, reg_loss: 0.000), lr: 0.0002653927813163482\n",
      "step: 300, acc: 0.992, loss: 0.040 (data_loss: 0.040, reg_loss: 0.000), lr: 0.0002585315408479835\n",
      "step: 320, acc: 1.000, loss: 0.017 (data_loss: 0.017, reg_loss: 0.000), lr: 0.000257201646090535\n",
      "training, acc: 0.971, loss: 0.100 (data_loss: 0.100, reg_loss: 0.000), lr: 0.000257201646090535\n",
      "validation, acc: 0.959, loss: 0.113\n",
      "epoch: 10\n",
      "step: 0, acc: 0.984, loss: 0.054 (data_loss: 0.054, reg_loss: 0.000), lr: 0.0002571355104139881\n",
      "step: 100, acc: 0.969, loss: 0.111 (data_loss: 0.111, reg_loss: 0.000), lr: 0.00025068939583855606\n",
      "step: 200, acc: 0.953, loss: 0.171 (data_loss: 0.171, reg_loss: 0.000), lr: 0.00024455857177794083\n",
      "step: 300, acc: 1.000, loss: 0.036 (data_loss: 0.036, reg_loss: 0.000), lr: 0.00023872045834328001\n",
      "step: 320, acc: 1.000, loss: 0.015 (data_loss: 0.015, reg_loss: 0.000), lr: 0.00023758612497030176\n",
      "training, acc: 0.973, loss: 0.092 (data_loss: 0.092, reg_loss: 0.000), lr: 0.00023758612497030176\n",
      "validation, acc: 0.962, loss: 0.108\n"
     ]
    }
   ],
   "source": [
    "# Instantiate the model\n",
    "model = Model()\n",
    "\n",
    "\n",
    "# Add layers\n",
    "model.add(Dense(X_train.shape[1], 128))\n",
    "model.add(ReLU())\n",
    "model.add(Dense(128, 128))\n",
    "model.add(ReLU())\n",
    "model.add(Dense(128, 10))\n",
    "model.add(Softmax())\n",
    "\n",
    "# Set loss, optimizer and accuracy objects\n",
    "model.set(\n",
    "    loss=CategoricalCrossentropy(),\n",
    "    optimizer=Adam(decay=1e-3),\n",
    "    accuracy=Categorical_Accuracy()\n",
    ")\n",
    "\n",
    "# Finalize the model\n",
    "model.finalize()\n",
    "\n",
    "# Train the model\n",
    "model.train(X_train, y_train, validation_data=(X_test, y_test),\n",
    "            epochs=10, batch_size=128, print_every=100)"
   ]
  },
  {
   "cell_type": "code",
   "execution_count": 37,
   "metadata": {},
   "outputs": [
    {
     "name": "stdout",
     "output_type": "stream",
     "text": [
      "predicted: 5\n",
      "true_value: 5\n"
     ]
    }
   ],
   "source": [
    "# Predict on the image\n",
    "confidences = model.predict(X_test)\n",
    "\n",
    "# Get prediction instead of confidence levels\n",
    "predictions = model.output_layer_activation.predictions(confidences)\n",
    "\n",
    "# Get label name from label index\n",
    "prediction = label_map[predictions[2]]\n",
    "\n",
    "print(f'predicted: {prediction}')\n",
    "print(f'true_value: {np.argmax(y_test[2])}')"
   ]
  }
 ],
 "metadata": {
  "kernelspec": {
   "display_name": "base",
   "language": "python",
   "name": "python3"
  },
  "language_info": {
   "codemirror_mode": {
    "name": "ipython",
    "version": 3
   },
   "file_extension": ".py",
   "mimetype": "text/x-python",
   "name": "python",
   "nbconvert_exporter": "python",
   "pygments_lexer": "ipython3",
   "version": "3.10.9"
  },
  "orig_nbformat": 4
 },
 "nbformat": 4,
 "nbformat_minor": 2
}
